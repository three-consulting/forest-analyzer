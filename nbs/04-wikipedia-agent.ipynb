{
 "cells": [
  {
   "cell_type": "code",
   "execution_count": 3,
   "metadata": {},
   "outputs": [],
   "source": [
    "import os\n",
    "\n",
    "from langchain.agents import load_tools\n",
    "from langchain.agents import initialize_agent\n",
    "from langchain.agents import AgentType\n",
    "from langchain.llms import OpenAI"
   ]
  },
  {
   "cell_type": "code",
   "execution_count": 4,
   "metadata": {},
   "outputs": [],
   "source": [
    "OPENAI_API_KEY = os.getenv(\"OPENAI_API_KEY\")\n",
    "DATABASE_NAME = os.getenv(\"DATABASE_NAME\")\n",
    "DATABASE_USER = os.getenv(\"DATABASE_USER\")\n",
    "DATABASE_PASSWORD = os.getenv(\"DATABASE_PASSWORD\")\n",
    "DATABASE_PORT = os.getenv(\"DATABASE_PORT\")\n",
    "DATABASE_HOST = os.getenv(\"DATABASE_HOST\")"
   ]
  },
  {
   "cell_type": "code",
   "execution_count": 10,
   "metadata": {},
   "outputs": [],
   "source": [
    "llm = OpenAI(temperature=0.7)"
   ]
  },
  {
   "cell_type": "code",
   "execution_count": 11,
   "metadata": {},
   "outputs": [],
   "source": [
    "tools = load_tools([\"wikipedia\", \"llm-math\"], llm=llm)"
   ]
  },
  {
   "cell_type": "code",
   "execution_count": 12,
   "metadata": {},
   "outputs": [],
   "source": [
    "agent = initialize_agent(tools, llm, agent=AgentType.ZERO_SHOT_REACT_DESCRIPTION, verbose=True)"
   ]
  },
  {
   "cell_type": "code",
   "execution_count": 17,
   "metadata": {},
   "outputs": [
    {
     "name": "stdout",
     "output_type": "stream",
     "text": [
      "\n",
      "\n",
      "\u001b[1m> Entering new AgentExecutor chain...\u001b[0m\n",
      "\u001b[32;1m\u001b[1;3m I need to figure out the area of Finland and then see how many 3 sq km sections can fit into it.\n",
      "Action: Wikipedia\n",
      "Action Input: Area of Finland\u001b[0m\n",
      "Observation: \u001b[36;1m\u001b[1;3mPage: Finland\n",
      "Summary: Finland (Finnish: Suomi [ˈsuo̯mi] (listen); Swedish: Finland [ˈfɪ̌nland] (listen)), officially the Republic of Finland (Finnish: Suomen tasavalta; Swedish: Republiken Finland (listen to all)), is a Nordic country in Northern Europe. It borders Sweden to the northwest, Norway to the north, and Russia to the east, with the Gulf of Bothnia to the west and the Gulf of Finland to the south, across from Estonia. Finland covers an area of 338,455 square kilometres (130,678 sq mi) with a population of 5.6 million. Helsinki is the capital and largest city. The vast majority of the population are ethnic Finns. Finnish and Swedish are the official languages, Swedish is the native language of 5.2% of the population. Finland's climate varies from humid continental in the south to the boreal in the north. The land cover is primarily a boreal forest biome, with more than 180,000 recorded lakes.Finland was first inhabited around 9000 BC after the Last Glacial Period. The Stone Age introduced several different ceramic styles and cultures. The Bronze Age and Iron Age were characterized by contacts with other cultures in Fennoscandia and the Baltic region. From the late 13th century, Finland became a part of Sweden as a consequence of the Northern Crusades. In 1809, as a result of the Finnish War, Finland became part of the Russian Empire as the autonomous Grand Duchy of Finland, during which Finnish art flourished and the idea of independence began to take hold. In 1906, Finland became the first European state to grant universal suffrage, and the first in the world to give all adult citizens the right to run for public office. After the 1917 Russian Revolution, Finland declared independence from Russia. In 1918, the fledgling state was divided by the Finnish Civil War. During World War II, Finland fought the Soviet Union in the Winter War and the Continuation War, and Nazi Germany in the Lapland War. It subsequently lost parts of its territory, but maintained its independence.\n",
      "Finland largely remained an agrarian country until the 1950s. After World War II, it rapidly industrialized and developed an advanced economy, while building an extensive welfare state based on the Nordic model; the country soon enjoyed widespread prosperity and a high per capita income. During the Cold War, Finland adopted an official policy of neutrality. Finland joined the European Union in 1995, the Eurozone at its inception in 1999 and NATO in 2023. Finland is a top performer in numerous metrics of national performance, including education, economic competitiveness, civil liberties, quality of life and human development.\n",
      "\n",
      "\n",
      "\n",
      "Page: List of urban areas in Finland by population\n",
      "Summary: This is a list of urban areas in Finland by population, with the 100 largest localities or urban areas in Finland on 31 December 2019. The list is based on data from Statistics Finland that defines an urban area as a cluster of dwellings with at least 200 inhabitants.\n",
      "\n",
      "Page: History of Finland\n",
      "Summary: The history of Finland begins around 9,000 BC during the end of the last glacial period. Stone Age cultures were Kunda, Comb Ceramic, Corded Ware, Kiukainen, and Pöljä cultures. The Finnish Bronze Age started in approximately 1,500 BC and the Iron Age started in 500 BC and lasted until 1,300 AD. Finnish Iron Age cultures can be separated into Finnish proper, Tavastian and Karelian cultures. The earliest written sources mentioning Finland start to appear from the 12th century onwards when the Catholic Church started to gain a foothold in Southwest Finland.Due to the Northern Crusades and Swedish colonisation of some Finnish coastal areas, most of the region became a part of the Kingdom of Sweden and the realm of the Catholic Church from the 13th century onwards. After the Finnish War in 1809, Finland was ceded to the Russian Empire, making this area the autonomous Grand Duchy of Finland. The Lutheran religion dominated. Finnish nationalism emerged in the 19th century. It focused on Finnish cultural traditions, folklore, and mythology, including music and—especially—the highly distinctive language and lyrics associated with it. One product of this era was the Kalevala, one of the most significant works of Finnish literature. The catastrophic Finnish famine of 1866–1868 was followed by eased economic regulations and extensive emigration.\n",
      "In 1917, Finland declared independence. A civil war between the Finnish Red Guards and the White Guard ensued a few months later, with the Whites gaining the upper hand during the springtime of 1918. After the internal affairs stabilized, the still mainly agrarian economy grew relatively quickly. Relations with the West, especially Sweden and Britain, were strong but tensions remained with the Soviet Union. During World War II, Finland fought twice against the Soviet Union, first defending its independence in the Winter War and then invading the Soviet Union in the Continuation War. In the peace settlement Finland ended up ceding a large part of Karelia and some other areas to the Soviet Union. However, Finland remained an independent democracy in Northern Europe.\n",
      "In the latter half of its independent history, Finland has maintained a mixed economy. Since its post–World War II economic boom in the 1970s, Finland's GDP per capita has been among the world's highest.  The expanded welfare state of Finland from 1970 and 1990 increased the public sector employees and spending and the tax burden imposed on the citizens. In 1992, Finland simultaneously faced economic overheating and depressed Western, Russian, and local markets. Finland joined the European Union in 1995, and replaced the Finnish markka with the euro in 2002. According to a 2016 poll, 61% of Finns preferred not to join NATO. Following the 2022 Russian invasion of Ukraine, the numbers had shifted significantly, with 62% in favour of Finland joining NATO and 16% against. Finland started to pursue membership in the alliance and eventually joined NATO on 4 April 2023.\u001b[0m\n",
      "Thought:\u001b[32;1m\u001b[1;3m I need to figure out the area of Finland to answer the original question.\n",
      "Action: Wikipedia\n",
      "Action Input: Area of Finland\u001b[0m\n",
      "Observation: \u001b[36;1m\u001b[1;3mPage: Finland\n",
      "Summary: Finland (Finnish: Suomi [ˈsuo̯mi] (listen); Swedish: Finland [ˈfɪ̌nland] (listen)), officially the Republic of Finland (Finnish: Suomen tasavalta; Swedish: Republiken Finland (listen to all)), is a Nordic country in Northern Europe. It borders Sweden to the northwest, Norway to the north, and Russia to the east, with the Gulf of Bothnia to the west and the Gulf of Finland to the south, across from Estonia. Finland covers an area of 338,455 square kilometres (130,678 sq mi) with a population of 5.6 million. Helsinki is the capital and largest city. The vast majority of the population are ethnic Finns. Finnish and Swedish are the official languages, Swedish is the native language of 5.2% of the population. Finland's climate varies from humid continental in the south to the boreal in the north. The land cover is primarily a boreal forest biome, with more than 180,000 recorded lakes.Finland was first inhabited around 9000 BC after the Last Glacial Period. The Stone Age introduced several different ceramic styles and cultures. The Bronze Age and Iron Age were characterized by contacts with other cultures in Fennoscandia and the Baltic region. From the late 13th century, Finland became a part of Sweden as a consequence of the Northern Crusades. In 1809, as a result of the Finnish War, Finland became part of the Russian Empire as the autonomous Grand Duchy of Finland, during which Finnish art flourished and the idea of independence began to take hold. In 1906, Finland became the first European state to grant universal suffrage, and the first in the world to give all adult citizens the right to run for public office. After the 1917 Russian Revolution, Finland declared independence from Russia. In 1918, the fledgling state was divided by the Finnish Civil War. During World War II, Finland fought the Soviet Union in the Winter War and the Continuation War, and Nazi Germany in the Lapland War. It subsequently lost parts of its territory, but maintained its independence.\n",
      "Finland largely remained an agrarian country until the 1950s. After World War II, it rapidly industrialized and developed an advanced economy, while building an extensive welfare state based on the Nordic model; the country soon enjoyed widespread prosperity and a high per capita income. During the Cold War, Finland adopted an official policy of neutrality. Finland joined the European Union in 1995, the Eurozone at its inception in 1999 and NATO in 2023. Finland is a top performer in numerous metrics of national performance, including education, economic competitiveness, civil liberties, quality of life and human development.\n",
      "\n",
      "\n",
      "\n",
      "Page: List of urban areas in Finland by population\n",
      "Summary: This is a list of urban areas in Finland by population, with the 100 largest localities or urban areas in Finland on 31 December 2019. The list is based on data from Statistics Finland that defines an urban area as a cluster of dwellings with at least 200 inhabitants.\n",
      "\n",
      "Page: History of Finland\n",
      "Summary: The history of Finland begins around 9,000 BC during the end of the last glacial period. Stone Age cultures were Kunda, Comb Ceramic, Corded Ware, Kiukainen, and Pöljä cultures. The Finnish Bronze Age started in approximately 1,500 BC and the Iron Age started in 500 BC and lasted until 1,300 AD. Finnish Iron Age cultures can be separated into Finnish proper, Tavastian and Karelian cultures. The earliest written sources mentioning Finland start to appear from the 12th century onwards when the Catholic Church started to gain a foothold in Southwest Finland.Due to the Northern Crusades and Swedish colonisation of some Finnish coastal areas, most of the region became a part of the Kingdom of Sweden and the realm of the Catholic Church from the 13th century onwards. After the Finnish War in 1809, Finland was ceded to the Russian Empire, making this area the autonomous Grand Duchy of Finland. The Lutheran religion dominated. Finnish nationalism emerged in the 19th century. It focused on Finnish cultural traditions, folklore, and mythology, including music and—especially—the highly distinctive language and lyrics associated with it. One product of this era was the Kalevala, one of the most significant works of Finnish literature. The catastrophic Finnish famine of 1866–1868 was followed by eased economic regulations and extensive emigration.\n",
      "In 1917, Finland declared independence. A civil war between the Finnish Red Guards and the White Guard ensued a few months later, with the Whites gaining the upper hand during the springtime of 1918. After the internal affairs stabilized, the still mainly agrarian economy grew relatively quickly. Relations with the West, especially Sweden and Britain, were strong but tensions remained with the Soviet Union. During World War II, Finland fought twice against the Soviet Union, first defending its independence in the Winter War and then invading the Soviet Union in the Continuation War. In the peace settlement Finland ended up ceding a large part of Karelia and some other areas to the Soviet Union. However, Finland remained an independent democracy in Northern Europe.\n",
      "In the latter half of its independent history, Finland has maintained a mixed economy. Since its post–World War II economic boom in the 1970s, Finland's GDP per capita has been among the world's highest.  The expanded welfare state of Finland from 1970 and 1990 increased the public sector employees and spending and the tax burden imposed on the citizens. In 1992, Finland simultaneously faced economic overheating and depressed Western, Russian, and local markets. Finland joined the European Union in 1995, and replaced the Finnish markka with the euro in 2002. According to a 2016 poll, 61% of Finns preferred not to join NATO. Following the 2022 Russian invasion of Ukraine, the numbers had shifted significantly, with 62% in favour of Finland joining NATO and 16% against. Finland started to pursue membership in the alliance and eventually joined NATO on 4 April 2023.\u001b[0m\n",
      "Thought:\u001b[32;1m\u001b[1;3m The area of Finland is 338,455 square kilometres, so I can use that number to find the answer.\n",
      "Action: Calculator\n",
      "Action Input: 338,455/3\u001b[0m\n",
      "Observation: \u001b[33;1m\u001b[1;3mAnswer: 112818.33333333333\n",
      "\u001b[0m\n",
      "Thought:\u001b[32;1m\u001b[1;3m I now know the final answer.\n",
      "Final Answer: Finland can fit 112818.33333333333 3 square km sections within its borders.\u001b[0m\n",
      "\n",
      "\u001b[1m> Finished chain.\u001b[0m\n"
     ]
    },
    {
     "data": {
      "text/plain": [
       "'Finland can fit 112818.33333333333 3 square km sections within its borders.'"
      ]
     },
     "execution_count": 17,
     "metadata": {},
     "output_type": "execute_result"
    }
   ],
   "source": [
    "agent.run(\"Area of my forest is 3 square km. How many of those can I fit inside the borders of Finland?\")"
   ]
  },
  {
   "cell_type": "code",
   "execution_count": null,
   "metadata": {},
   "outputs": [],
   "source": []
  }
 ],
 "metadata": {
  "kernelspec": {
   "display_name": "Python 3",
   "language": "python",
   "name": "python3"
  },
  "language_info": {
   "codemirror_mode": {
    "name": "ipython",
    "version": 3
   },
   "file_extension": ".py",
   "mimetype": "text/x-python",
   "name": "python",
   "nbconvert_exporter": "python",
   "pygments_lexer": "ipython3",
   "version": "3.10.11"
  },
  "orig_nbformat": 4
 },
 "nbformat": 4,
 "nbformat_minor": 2
}
