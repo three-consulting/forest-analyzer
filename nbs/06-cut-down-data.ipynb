{
 "cells": [
  {
   "cell_type": "code",
   "execution_count": null,
   "metadata": {},
   "outputs": [],
   "source": [
    "import os\n",
    "import json\n",
    "import folium\n",
    "from sqlalchemy import create_engine\n",
    "from geoalchemy2 import Geometry\n",
    "from geoalchemy2.functions import ST_BdMPolyFromText, ST_PolygonFromText\n",
    "from geoalchemy2.elements import WKTElement\n",
    "from llama_index import GPTSQLStructStoreIndex, SQLDatabase\n",
    "from llama_index.indices.struct_store import SQLContextContainerBuilder\n",
    "from langchain import OpenAI"
   ]
  },
  {
   "cell_type": "code",
   "execution_count": null,
   "metadata": {},
   "outputs": [],
   "source": [
    "OPENAI_API_KEY = os.getenv(\"OPENAI_API_KEY\")\n",
    "DATABASE_NAME = os.getenv(\"DATABASE_NAME\")\n",
    "DATABASE_USER = os.getenv(\"DATABASE_USER\")\n",
    "DATABASE_PASSWORD = os.getenv(\"DATABASE_PASSWORD\")\n",
    "DATABASE_PORT = os.getenv(\"DATABASE_PORT\")\n",
    "DATABASE_HOST = os.getenv(\"DATABASE_HOST\")"
   ]
  },
  {
   "cell_type": "code",
   "execution_count": null,
   "metadata": {},
   "outputs": [],
   "source": [
    "llm_predictor = OpenAI(model_name=\"gpt-4\")"
   ]
  },
  {
   "cell_type": "code",
   "execution_count": null,
   "metadata": {},
   "outputs": [],
   "source": [
    "connection_string = f\"postgresql://{DATABASE_USER}:{DATABASE_PASSWORD}@{DATABASE_HOST}:{DATABASE_PORT}/{DATABASE_NAME}\"\n",
    "engine = create_engine(connection_string)"
   ]
  },
  {
   "cell_type": "code",
   "execution_count": null,
   "metadata": {},
   "outputs": [],
   "source": [
    "db_all = SQLDatabase(engine)"
   ]
  },
  {
   "cell_type": "code",
   "execution_count": null,
   "metadata": {},
   "outputs": [],
   "source": [
    "index_all = GPTSQLStructStoreIndex.from_documents(\n",
    "    [],\n",
    "    sql_database=db_all,\n",
    ")"
   ]
  },
  {
   "cell_type": "code",
   "execution_count": null,
   "metadata": {},
   "outputs": [],
   "source": [
    "res = index_all.query(\"Get the names of all tables in database?\")"
   ]
  },
  {
   "cell_type": "code",
   "execution_count": null,
   "metadata": {},
   "outputs": [],
   "source": [
    "type([m[0] for m in res.extra_info[\"result\"]]).__name__"
   ]
  },
  {
   "cell_type": "code",
   "execution_count": null,
   "metadata": {},
   "outputs": [],
   "source": [
    "db_stand_4326 = SQLDatabase(engine, include_tables=[\"stand_4326\"])"
   ]
  },
  {
   "cell_type": "code",
   "execution_count": null,
   "metadata": {},
   "outputs": [],
   "source": [
    "stand_4326_text = (\n",
    "    \"The PostGis plugin is available in the database.\\n\"\n",
    "    \"The forest polygons can be found from the geometry column.\\n\"\n",
    "    \"Get the polygons as geojson.\"\n",
    ")\n",
    "\n",
    "table_context_dict = {\n",
    "    \"stand_4326\": stand_4326_text,\n",
    "}\n",
    "context_builder = SQLContextContainerBuilder(db_stand_4326, context_dict=table_context_dict)\n",
    "context_container = context_builder.build_context_container()"
   ]
  },
  {
   "cell_type": "code",
   "execution_count": null,
   "metadata": {},
   "outputs": [],
   "source": [
    "index = GPTSQLStructStoreIndex.from_documents(\n",
    "    [],\n",
    "    sql_database=db_stand_4326,\n",
    "    table_name=\"stand_4326\",\n",
    "    sql_context_container=context_container,\n",
    ")"
   ]
  },
  {
   "cell_type": "code",
   "execution_count": null,
   "metadata": {},
   "outputs": [],
   "source": [
    "res = index.query(\"Get the id and forest polygon of forest with larges area that has main tree species 2. Don't include NULL values.\")"
   ]
  },
  {
   "cell_type": "code",
   "execution_count": null,
   "metadata": {},
   "outputs": [],
   "source": [
    "id, pol = res.extra_info[\"result\"][0]"
   ]
  },
  {
   "cell_type": "code",
   "execution_count": null,
   "metadata": {},
   "outputs": [],
   "source": [
    "res.extra_info[\"sql_query\"]"
   ]
  },
  {
   "cell_type": "code",
   "execution_count": null,
   "metadata": {},
   "outputs": [],
   "source": [
    "id"
   ]
  },
  {
   "cell_type": "code",
   "execution_count": null,
   "metadata": {},
   "outputs": [],
   "source": [
    "json.loads(pol)"
   ]
  },
  {
   "cell_type": "code",
   "execution_count": null,
   "metadata": {},
   "outputs": [],
   "source": []
  }
 ],
 "metadata": {
  "kernelspec": {
   "display_name": ".venv",
   "language": "python",
   "name": "python3"
  },
  "language_info": {
   "codemirror_mode": {
    "name": "ipython",
    "version": 3
   },
   "file_extension": ".py",
   "mimetype": "text/x-python",
   "name": "python",
   "nbconvert_exporter": "python",
   "pygments_lexer": "ipython3",
   "version": "3.10.11"
  },
  "orig_nbformat": 4
 },
 "nbformat": 4,
 "nbformat_minor": 2
}
