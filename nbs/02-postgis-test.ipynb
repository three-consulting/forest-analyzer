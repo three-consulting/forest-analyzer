{
 "cells": [
  {
   "cell_type": "code",
   "execution_count": 2,
   "metadata": {},
   "outputs": [],
   "source": [
    "import os\n",
    "from dotenv import load_dotenv\n",
    "from langchain.agents import create_sql_agent\n",
    "from langchain.agents.agent_toolkits import SQLDatabaseToolkit\n",
    "from langchain.sql_database import SQLDatabase\n",
    "from langchain.agents import AgentExecutor\n",
    "from geoalchemy2 import Geometry\n",
    "from sqlalchemy import create_engine\n",
    "from langchain.chat_models import ChatOpenAI\n",
    "from langchain.llms import OpenAI\n",
    "from langchain import SQLDatabaseChain\n"
   ]
  },
  {
   "cell_type": "code",
   "execution_count": 3,
   "metadata": {},
   "outputs": [
    {
     "data": {
      "text/plain": [
       "True"
      ]
     },
     "execution_count": 3,
     "metadata": {},
     "output_type": "execute_result"
    }
   ],
   "source": [
    "load_dotenv()"
   ]
  },
  {
   "cell_type": "code",
   "execution_count": 4,
   "metadata": {},
   "outputs": [],
   "source": [
    "OPENAI_API_KEY = os.getenv(\"OPENAI_API_KEY\")\n",
    "DATABASE_NAME = os.getenv(\"DATABASE_NAME\")\n",
    "DATABASE_USER = os.getenv(\"DATABASE_USER\")\n",
    "DATABASE_PASSWORD = os.getenv(\"DATABASE_PASSWORD\")\n",
    "DATABASE_PORT = os.getenv(\"DATABASE_PORT\")\n",
    "DATABASE_HOST = os.getenv(\"DATABASE_HOST\")"
   ]
  },
  {
   "cell_type": "code",
   "execution_count": 5,
   "metadata": {},
   "outputs": [],
   "source": [
    "llm=ChatOpenAI(model_name=\"gpt-4\")"
   ]
  },
  {
   "cell_type": "code",
   "execution_count": 6,
   "metadata": {},
   "outputs": [],
   "source": [
    "connection_string = f\"postgresql://{DATABASE_USER}:{DATABASE_PASSWORD}@{DATABASE_HOST}:{DATABASE_PORT}/{DATABASE_NAME}\"\n",
    "engine = create_engine(connection_string)\n",
    "\n",
    "db = SQLDatabase(engine=engine)\n",
    "db_chain = SQLDatabaseChain(llm=llm, database=db, verbose=True)"
   ]
  },
  {
   "cell_type": "code",
   "execution_count": 7,
   "metadata": {},
   "outputs": [],
   "source": [
    "connection_string = f\"postgresql://{DATABASE_USER}:{DATABASE_PASSWORD}@{DATABASE_HOST}:{DATABASE_PORT}/{DATABASE_NAME}\"\n",
    "engine = create_engine(connection_string)\n",
    "\n",
    "db = SQLDatabase(engine=engine)\n",
    "toolkit = SQLDatabaseToolkit(db=db)\n",
    "\n",
    "agent_executor = create_sql_agent(\n",
    "    llm=llm,\n",
    "    toolkit=toolkit,\n",
    "    verbose=True\n",
    ")"
   ]
  },
  {
   "cell_type": "code",
   "execution_count": 8,
   "metadata": {},
   "outputs": [
    {
     "name": "stdout",
     "output_type": "stream",
     "text": [
      "\n",
      "\n",
      "\u001b[1m> Entering new SQLDatabaseChain chain...\u001b[0m\n",
      "how many tables are there? \n",
      "SQLQuery:\u001b[32;1m\u001b[1;3mSELECT COUNT(*) FROM information_schema.tables WHERE table_schema = 'public';\u001b[0m\n",
      "SQLResult: \u001b[33;1m\u001b[1;3m[(11,)]\u001b[0m\n",
      "Answer:\u001b[32;1m\u001b[1;3mThere are 11 tables.\u001b[0m\n",
      "\u001b[1m> Finished chain.\u001b[0m\n"
     ]
    },
    {
     "data": {
      "text/plain": [
       "'There are 11 tables.'"
      ]
     },
     "execution_count": 8,
     "metadata": {},
     "output_type": "execute_result"
    }
   ],
   "source": [
    "db_chain.run(\"how many tables are there?\")"
   ]
  },
  {
   "cell_type": "code",
   "execution_count": 9,
   "metadata": {},
   "outputs": [
    {
     "name": "stdout",
     "output_type": "stream",
     "text": [
      "\n",
      "\n",
      "\u001b[1m> Entering new AgentExecutor chain...\u001b[0m\n",
      "\u001b[32;1m\u001b[1;3mAction: list_tables_sql_db\n",
      "Action Input: \u001b[0m\n",
      "Observation: \u001b[38;5;200m\u001b[1;3mtreestratum, operation, datasource, specialfeature, treestandsummary, restriction, stand, assortment, specification, stand_4326, treestand\u001b[0m\n",
      "Thought:\u001b[32;1m\u001b[1;3mI now know the number of tables in the database.\n",
      "Final Answer: There are 11 tables in the database.\u001b[0m\n",
      "\n",
      "\u001b[1m> Finished chain.\u001b[0m\n"
     ]
    },
    {
     "data": {
      "text/plain": [
       "'There are 11 tables in the database.'"
      ]
     },
     "execution_count": 9,
     "metadata": {},
     "output_type": "execute_result"
    }
   ],
   "source": [
    "agent_executor.run(\"How many tables are there in the database?\")"
   ]
  },
  {
   "cell_type": "code",
   "execution_count": 11,
   "metadata": {},
   "outputs": [
    {
     "name": "stdout",
     "output_type": "stream",
     "text": [
      "\n",
      "\n",
      "\u001b[1m> Entering new AgentExecutor chain...\u001b[0m\n",
      "\u001b[32;1m\u001b[1;3mAction: list_tables_sql_db\n",
      "Action Input: \u001b[0m\n",
      "Observation: \u001b[38;5;200m\u001b[1;3mtreestratum, operation, datasource, specialfeature, treestandsummary, restriction, stand, assortment, specification, stand_4326, treestand\u001b[0m\n",
      "Thought:\u001b[32;1m\u001b[1;3mI see the stand_4326 table is available. I should now check the schema to know the relevant columns for area.\n",
      "Action: schema_sql_db\n",
      "Action Input: stand_4326\u001b[0m\n",
      "Observation: \u001b[33;1m\u001b[1;3m\n",
      "CREATE TABLE stand_4326 (\n",
      "\tid INTEGER, \n",
      "\tstandid BIGINT, \n",
      "\tparcelid BIGINT, \n",
      "\trealestateid BIGINT, \n",
      "\tstandnumber BIGINT, \n",
      "\tstandnumberextension VARCHAR(2), \n",
      "\tmaingroup BIGINT, \n",
      "\tsubgroup BIGINT, \n",
      "\tfertilityclass BIGINT, \n",
      "\tsoiltype BIGINT, \n",
      "\tdrainagestate BIGINT, \n",
      "\tditchingyear BIGINT, \n",
      "\tthinningyear BIGINT, \n",
      "\tdevelopmentclass VARCHAR(2), \n",
      "\tstandquality BIGINT, \n",
      "\tmaintreespecies BIGINT, \n",
      "\taccessibility BIGINT, \n",
      "\tstandinfo VARCHAR, \n",
      "\tdatasource BIGINT, \n",
      "\tgrowthplacedatasource BIGINT, \n",
      "\tarea DOUBLE PRECISION, \n",
      "\tareadecrease DOUBLE PRECISION, \n",
      "\tcreationtime TIMESTAMP WITH TIME ZONE, \n",
      "\tupdatetime TIMESTAMP WITH TIME ZONE, \n",
      "\tgeometry geometry(GEOMETRY,-1)\n",
      ")\n",
      "\n",
      "/*\n",
      "3 rows from stand_4326 table:\n",
      "id\tstandid\tparcelid\trealestateid\tstandnumber\tstandnumberextension\tmaingroup\tsubgroup\tfertilityclass\tsoiltype\tdrainagestate\tditchingyear\tthinningyear\tdevelopmentclass\tstandquality\tmaintreespecies\taccessibility\tstandinfo\tdatasource\tgrowthplacedatasource\tarea\tareadecrease\tcreationtime\tupdatetime\tgeometry\n",
      "461900\t24215129\tNone\tNone\t26\tNone\t1\t1\t3\t20\t1\tNone\tNone\t02\t0\t29\t4\t\t11\t101\t0.583\t0.0\t2022-10-13 13:21:23+00:00\t2022-10-13 13:21:23+00:00\t0106000020e61000000100000001030000000100000022000000efb168c02e4f3640243e157aaf714e40a9c7d7f3274f3640\n",
      "461901\t24215130\tNone\tNone\t25\tNone\t1\t1\t3\t20\t1\tNone\tNone\t03\t0\t29\t4\t\t11\t101\t0.799\t0.0\t2022-10-13 13:21:23+00:00\t2022-10-13 13:21:23+00:00\t0106000020e6100000010000000103000000010000002c000000ad71a05d7f4f364058469716c7714e40498d314d934f3640\n",
      "461902\t24215131\tNone\tNone\t15\tNone\t1\t1\t3\t20\t1\tNone\tNone\t02\t0\t2\t2\t\t11\t101\t2.072\t0.0\t2022-10-13 13:21:23+00:00\t2022-10-13 13:21:23+00:00\t0106000020e61000000100000001030000000100000034000000f7763f296f4f3640987bbc8de8714e40184100db654f3640\n",
      "*/\u001b[0m\n",
      "Thought:\u001b[32;1m\u001b[1;3mThe area column in the stand_4326 table contains the information needed to calculate the total sum of areas. I will now write the query to calculate the sum of the area column in the stand_4326 table.\n",
      "Action: query_checker_sql_db\n",
      "Action Input: SELECT SUM(area) as total_area FROM stand_4326;\u001b[0m\n",
      "Observation: \u001b[31;1m\u001b[1;3m\n",
      "\n",
      "SELECT SUM(area) as total_area FROM stand_4326;\u001b[0m\n",
      "Thought:\u001b[32;1m\u001b[1;3mThe query seems correct. I will now run the query to find the total sum of areas in the stand_4326 table.\n",
      "Action: query_sql_db\n",
      "Action Input: SELECT SUM(area) as total_area FROM stand_4326;\u001b[0m\n",
      "Observation: \u001b[36;1m\u001b[1;3m[(600761.402,)]\u001b[0m\n",
      "Thought:\u001b[32;1m\u001b[1;3mI now know the final answer.\n",
      "Final Answer: The total sum of areas in the stand_4326 table is 600761.402.\u001b[0m\n",
      "\n",
      "\u001b[1m> Finished chain.\u001b[0m\n"
     ]
    },
    {
     "data": {
      "text/plain": [
       "'The total sum of areas in the stand_4326 table is 600761.402.'"
      ]
     },
     "execution_count": 11,
     "metadata": {},
     "output_type": "execute_result"
    }
   ],
   "source": [
    "agent_executor.run(\"What's the total sum of areas in the stand_4326 table?\")"
   ]
  }
 ],
 "metadata": {
  "kernelspec": {
   "display_name": ".venv",
   "language": "python",
   "name": "python3"
  },
  "language_info": {
   "codemirror_mode": {
    "name": "ipython",
    "version": 3
   },
   "file_extension": ".py",
   "mimetype": "text/x-python",
   "name": "python",
   "nbconvert_exporter": "python",
   "pygments_lexer": "ipython3",
   "version": "3.10.10"
  },
  "orig_nbformat": 4
 },
 "nbformat": 4,
 "nbformat_minor": 2
}
