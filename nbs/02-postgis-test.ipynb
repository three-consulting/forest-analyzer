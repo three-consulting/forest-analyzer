{
 "cells": [
  {
   "cell_type": "code",
   "execution_count": 1,
   "metadata": {},
   "outputs": [],
   "source": [
    "import os\n",
    "from dotenv import load_dotenv\n",
    "from langchain.agents import create_sql_agent\n",
    "from langchain.agents.agent_toolkits import SQLDatabaseToolkit\n",
    "from langchain.sql_database import SQLDatabase\n",
    "from langchain.agents import AgentExecutor\n",
    "from geoalchemy2 import Geometry\n",
    "from sqlalchemy import create_engine\n",
    "from langchain.chat_models import ChatOpenAI\n",
    "from langchain.llms import OpenAI\n",
    "from langchain import SQLDatabaseChain\n"
   ]
  },
  {
   "cell_type": "code",
   "execution_count": 2,
   "metadata": {},
   "outputs": [
    {
     "data": {
      "text/plain": [
       "True"
      ]
     },
     "execution_count": 2,
     "metadata": {},
     "output_type": "execute_result"
    }
   ],
   "source": [
    "load_dotenv()"
   ]
  },
  {
   "cell_type": "code",
   "execution_count": 3,
   "metadata": {},
   "outputs": [],
   "source": [
    "OPENAI_API_KEY = os.getenv(\"OPENAI_API_KEY\")\n",
    "DATABASE_NAME = os.getenv(\"DATABASE_NAME\")\n",
    "DATABASE_USER = os.getenv(\"DATABASE_USER\")\n",
    "DATABASE_PASSWORD = os.getenv(\"DATABASE_PASSWORD\")\n",
    "DATABASE_PORT = os.getenv(\"DATABASE_PORT\")\n",
    "DATABASE_HOST = os.getenv(\"DATABASE_HOST\")"
   ]
  },
  {
   "cell_type": "code",
   "execution_count": 4,
   "metadata": {},
   "outputs": [],
   "source": [
    "llm=ChatOpenAI(model_name=\"gpt-4\")"
   ]
  },
  {
   "cell_type": "code",
   "execution_count": 5,
   "metadata": {},
   "outputs": [],
   "source": [
    "connection_string = f\"postgresql://{DATABASE_USER}:{DATABASE_PASSWORD}@{DATABASE_HOST}:{DATABASE_PORT}/{DATABASE_NAME}\"\n",
    "engine = create_engine(connection_string)\n",
    "\n",
    "db = SQLDatabase(engine=engine)\n",
    "db_chain = SQLDatabaseChain(llm=llm, database=db, verbose=True)"
   ]
  },
  {
   "cell_type": "code",
   "execution_count": 6,
   "metadata": {},
   "outputs": [],
   "source": [
    "connection_string = f\"postgresql://{DATABASE_USER}:{DATABASE_PASSWORD}@{DATABASE_HOST}:{DATABASE_PORT}/{DATABASE_NAME}\"\n",
    "engine = create_engine(connection_string)\n",
    "\n",
    "db = SQLDatabase(engine=engine)\n",
    "toolkit = SQLDatabaseToolkit(db=db)\n",
    "\n",
    "agent_executor = create_sql_agent(\n",
    "    llm=llm,\n",
    "    toolkit=toolkit,\n",
    "    verbose=True\n",
    ")"
   ]
  },
  {
   "cell_type": "code",
   "execution_count": 12,
   "metadata": {},
   "outputs": [
    {
     "name": "stdout",
     "output_type": "stream",
     "text": [
      "\n",
      "\n",
      "\u001b[1m> Entering new SQLDatabaseChain chain...\u001b[0m\n",
      "how many tables are there? \n",
      "SQLQuery:\u001b[32;1m\u001b[1;3m\"SELECT COUNT(*) FROM information_schema.tables WHERE table_schema = 'public';\"\u001b[0m\n",
      "\n",
      " (psycopg2.errors.SyntaxError) syntax error at or near \"\"SELECT COUNT(*) FROM information_schema.tables WHERE table_schema = 'public';\"\"\n",
      "LINE 1: \"SELECT COUNT(*) FROM information_schema.tables WHERE table_...\n",
      "        ^\n",
      "\n",
      "[SQL: \"SELECT COUNT(*) FROM information_schema.tables WHERE table_schema = 'public';\"]\n",
      "(Background on this error at: https://sqlalche.me/e/14/f405)\n"
     ]
    }
   ],
   "source": [
    "try:\n",
    "    db_chain.run(\"how many tables are there?\")\n",
    "except Exception as e:\n",
    "    print(\"\\n\\n\", e)"
   ]
  },
  {
   "cell_type": "code",
   "execution_count": 13,
   "metadata": {},
   "outputs": [
    {
     "name": "stdout",
     "output_type": "stream",
     "text": [
      "\n",
      "\n",
      "\u001b[1m> Entering new AgentExecutor chain...\u001b[0m\n",
      "\u001b[32;1m\u001b[1;3mAction: list_tables_sql_db\n",
      "Action Input: \u001b[0m\n",
      "Observation: \u001b[38;5;200m\u001b[1;3mtreestandsummary, treestratum, stand_4326, assortment, stand, operation, datasource, specialfeature, treestand, specification, restriction\u001b[0m\n",
      "Thought:\u001b[32;1m\u001b[1;3mI can see there are 11 tables in the database.\n",
      "Final Answer: There are 11 tables in the database.\u001b[0m\n",
      "\n",
      "\u001b[1m> Finished chain.\u001b[0m\n"
     ]
    },
    {
     "data": {
      "text/plain": [
       "'There are 11 tables in the database.'"
      ]
     },
     "execution_count": 13,
     "metadata": {},
     "output_type": "execute_result"
    }
   ],
   "source": [
    "agent_executor.run(\"How many tables are there in the database?\")"
   ]
  },
  {
   "cell_type": "code",
   "execution_count": 14,
   "metadata": {},
   "outputs": [
    {
     "name": "stdout",
     "output_type": "stream",
     "text": [
      "\n",
      "\n",
      "\u001b[1m> Entering new AgentExecutor chain...\u001b[0m\n",
      "\u001b[32;1m\u001b[1;3mAction: list_tables_sql_db\n",
      "Action Input: \u001b[0m\n",
      "Observation: \u001b[38;5;200m\u001b[1;3mtreestandsummary, treestratum, stand_4326, assortment, stand, operation, datasource, specialfeature, treestand, specification, restriction\u001b[0m\n",
      "Thought:\u001b[32;1m\u001b[1;3mI see the stand_4326 table in the database. Now, I should look at its schema to identify the area column.\n",
      "Action: schema_sql_db\n",
      "Action Input: stand_4326\u001b[0m\n",
      "Observation: \u001b[33;1m\u001b[1;3m\n",
      "CREATE TABLE stand_4326 (\n",
      "\tid INTEGER, \n",
      "\tstandid BIGINT, \n",
      "\tparcelid BIGINT, \n",
      "\trealestateid BIGINT, \n",
      "\tstandnumber BIGINT, \n",
      "\tstandnumberextension VARCHAR(2), \n",
      "\tmaingroup BIGINT, \n",
      "\tsubgroup BIGINT, \n",
      "\tfertilityclass BIGINT, \n",
      "\tsoiltype BIGINT, \n",
      "\tdrainagestate BIGINT, \n",
      "\tditchingyear BIGINT, \n",
      "\tthinningyear BIGINT, \n",
      "\tdevelopmentclass VARCHAR(2), \n",
      "\tstandquality BIGINT, \n",
      "\tmaintreespecies BIGINT, \n",
      "\taccessibility BIGINT, \n",
      "\tstandinfo VARCHAR, \n",
      "\tdatasource BIGINT, \n",
      "\tgrowthplacedatasource BIGINT, \n",
      "\tarea DOUBLE PRECISION, \n",
      "\tareadecrease DOUBLE PRECISION, \n",
      "\tcreationtime TIMESTAMP WITH TIME ZONE, \n",
      "\tupdatetime TIMESTAMP WITH TIME ZONE, \n",
      "\tgeometry geometry(GEOMETRY,-1)\n",
      ")\n",
      "\n",
      "/*\n",
      "3 rows from stand_4326 table:\n",
      "id\tstandid\tparcelid\trealestateid\tstandnumber\tstandnumberextension\tmaingroup\tsubgroup\tfertilityclass\tsoiltype\tdrainagestate\tditchingyear\tthinningyear\tdevelopmentclass\tstandquality\tmaintreespecies\taccessibility\tstandinfo\tdatasource\tgrowthplacedatasource\tarea\tareadecrease\tcreationtime\tupdatetime\tgeometry\n",
      "331595\t19281628\tNone\tNone\t13\tNone\t1\t1\t3\t10\t1\tNone\tNone\t04\t0\t1\t2\t\t11\t105\t1.576\t0.0\t2022-10-16 17:24:55+00:00\t2022-10-16 17:24:55+00:00\t0106000020e61000000100000001030000000100000096000000f5f6b4ef45a33640b98a5d273f4a4e402e2fb3c454a33640\n",
      "331596\t19281630\tNone\tNone\t15\tNone\t1\t1\t3\t10\t1\tNone\tNone\t03\t0\t2\t4\t\t11\t105\t0.27\t0.0\t2022-09-27 17:45:34+00:00\t2022-09-27 17:45:34+00:00\t0106000020e610000001000000010300000001000000130000002de346c4b1a33640f3b87ed8334a4e4040ee9771ada33640\n",
      "331597\t19281633\tNone\tNone\t1\tNone\t1\t1\t2\t20\t1\tNone\tNone\t03\t0\t2\t4\t\t11\t105\t0.587\t0.0\t2022-09-27 17:45:34+00:00\t2022-09-27 17:45:34+00:00\t0106000020e610000001000000010300000001000000130000003c19582a80a336406f098a860a4a4e4007b0790c80a33640\n",
      "*/\u001b[0m\n",
      "Thought:\u001b[32;1m\u001b[1;3mI see the area column in the stand_4326 table. I should now write a query to calculate the sum of the areas.\n",
      "Action: query_checker_sql_db\n",
      "Action Input: SELECT sum(area) FROM stand_4326\u001b[0m\n",
      "Observation: \u001b[31;1m\u001b[1;3m\n",
      "\n",
      "SELECT SUM(area) FROM stand_4326\u001b[0m\n",
      "Thought:\u001b[32;1m\u001b[1;3mThe query is correct. Now, I will execute the query to calculate the total sum of areas in the stand_4326 table.\n",
      "Action: query_sql_db\n",
      "Action Input: SELECT sum(area) FROM stand_4326\u001b[0m\n",
      "Observation: \u001b[36;1m\u001b[1;3m[(600761.402000011,)]\u001b[0m\n",
      "Thought:\u001b[32;1m\u001b[1;3mI now know the final answer.\n",
      "Final Answer: The total sum of areas in the stand_4326 table is 600,761.402 square units.\u001b[0m\n",
      "\n",
      "\u001b[1m> Finished chain.\u001b[0m\n"
     ]
    },
    {
     "data": {
      "text/plain": [
       "'The total sum of areas in the stand_4326 table is 600,761.402 square units.'"
      ]
     },
     "execution_count": 14,
     "metadata": {},
     "output_type": "execute_result"
    }
   ],
   "source": [
    "agent_executor.run(\"What's the total sum of areas in the stand_4326 table?\")"
   ]
  },
  {
   "cell_type": "code",
   "execution_count": 19,
   "metadata": {},
   "outputs": [
    {
     "name": "stdout",
     "output_type": "stream",
     "text": [
      "\n",
      "\n",
      "\u001b[1m> Entering new AgentExecutor chain...\u001b[0m\n",
      "\u001b[32;1m\u001b[1;3mAction: list_tables_sql_db\n",
      "Action Input: \u001b[0m\n",
      "Observation: \u001b[38;5;200m\u001b[1;3mtreestandsummary, treestratum, stand_4326, assortment, stand, operation, datasource, specialfeature, treestand, specification, restriction\u001b[0m\n",
      "Thought:\u001b[32;1m\u001b[1;3mNow that I have the list of tables, I can query the stand_4326 table for the forest polygon with the largest area.\n",
      "Action: schema_sql_db\n",
      "Action Input: stand_4326\u001b[0m\n",
      "Observation: \u001b[33;1m\u001b[1;3m\n",
      "CREATE TABLE stand_4326 (\n",
      "\tid INTEGER, \n",
      "\tstandid BIGINT, \n",
      "\tparcelid BIGINT, \n",
      "\trealestateid BIGINT, \n",
      "\tstandnumber BIGINT, \n",
      "\tstandnumberextension VARCHAR(2), \n",
      "\tmaingroup BIGINT, \n",
      "\tsubgroup BIGINT, \n",
      "\tfertilityclass BIGINT, \n",
      "\tsoiltype BIGINT, \n",
      "\tdrainagestate BIGINT, \n",
      "\tditchingyear BIGINT, \n",
      "\tthinningyear BIGINT, \n",
      "\tdevelopmentclass VARCHAR(2), \n",
      "\tstandquality BIGINT, \n",
      "\tmaintreespecies BIGINT, \n",
      "\taccessibility BIGINT, \n",
      "\tstandinfo VARCHAR, \n",
      "\tdatasource BIGINT, \n",
      "\tgrowthplacedatasource BIGINT, \n",
      "\tarea DOUBLE PRECISION, \n",
      "\tareadecrease DOUBLE PRECISION, \n",
      "\tcreationtime TIMESTAMP WITH TIME ZONE, \n",
      "\tupdatetime TIMESTAMP WITH TIME ZONE, \n",
      "\tgeometry geometry(GEOMETRY,-1)\n",
      ")\n",
      "\n",
      "/*\n",
      "3 rows from stand_4326 table:\n",
      "id\tstandid\tparcelid\trealestateid\tstandnumber\tstandnumberextension\tmaingroup\tsubgroup\tfertilityclass\tsoiltype\tdrainagestate\tditchingyear\tthinningyear\tdevelopmentclass\tstandquality\tmaintreespecies\taccessibility\tstandinfo\tdatasource\tgrowthplacedatasource\tarea\tareadecrease\tcreationtime\tupdatetime\tgeometry\n",
      "331746\t19288383\tNone\tNone\t5\tNone\t1\t1\t3\t10\t1\tNone\tNone\t04\t0\t1\t4\t\t11\t105\t0.146\t0.0\t2022-09-27 17:50:55+00:00\t2022-09-27 17:50:55+00:00\t0106000020e61000000100000001030000000100000025000000f7f29f3310ab3640cf9a21a08d504e4070cc3f2814ab3640\n",
      "331750\t19288405\tNone\tNone\t12\tNone\t1\t1\t3\t30\t1\tNone\tNone\t04\t0\t1\t2\t\t11\t101\t1.657\t0.0\t2022-09-27 17:50:57+00:00\t2022-09-27 17:50:57+00:00\t0106000020e610000001000000010300000001000000b700000093dcc57ec0aa3640a84ae9ef20504e40e9142930bfaa3640\n",
      "331747\t19288394\tNone\tNone\t3\tNone\t1\t1\t3\t10\t3\tNone\tNone\t04\t0\t1\t2\t\t11\t101\t2.533\t0.0\t2022-09-27 17:50:56+00:00\t2022-09-27 17:50:56+00:00\t0106000020e6100000010000000103000000010000001401000092637e1d88aa36403f951aa679504e40ab68f5c881aa3640\n",
      "*/\u001b[0m\n",
      "Thought:\u001b[32;1m\u001b[1;3mI now know the schema of the stand_4326 table. I can write a query to get the forest polygon with the largest area as geojson.\n",
      "Action: query_checker_sql_db\n",
      "Action Input: SELECT id, ST_AsGeoJSON(geometry) as geojson FROM stand_4326 ORDER BY area DESC LIMIT 10\u001b[0m\n",
      "Observation: \u001b[31;1m\u001b[1;3m\n",
      "\n",
      "SELECT id, ST_AsGeoJSON(geometry) as geojson FROM stand_4326 WHERE NOT IN (NULL) UNION ALL SELECT id, ST_AsGeoJSON(geometry) as geojson FROM stand_4326 WHERE area BETWEEN 0 AND 10 ORDER BY area DESC LIMIT 10;\u001b[0m\n",
      "Thought:\u001b[32;1m\u001b[1;3mThe query_checker returned a different query. I should correct my query and try again.\n",
      "Action: query_checker_sql_db\n",
      "Action Input: SELECT id, ST_AsGeoJSON(geometry) as geojson FROM stand_4326 ORDER BY area DESC LIMIT 1\u001b[0m\n",
      "Observation: \u001b[31;1m\u001b[1;3m\n",
      "\n",
      "SELECT id, ST_AsGeoJSON(geometry) as geojson FROM stand_4326 WHERE NOT IN (NULL) UNION ALL SELECT id, ST_AsGeoJSON(geometry) as geojson FROM stand_4326 WHERE area BETWEEN 0 AND 1 EXCLUSIVE ORDER BY area DESC LIMIT 1\u001b[0m\n",
      "Thought:\u001b[32;1m\u001b[1;3mThe query_checker is still returning a different query. I should try with a simpler query, and then I can modify it to get the desired output.\n",
      "Action: query_checker_sql_db\n",
      "Action Input: SELECT id, geometry FROM stand_4326 ORDER BY area DESC LIMIT 1\u001b[0m\n",
      "Observation: \u001b[31;1m\u001b[1;3m\n",
      "\n",
      "SELECT id, geometry FROM stand_4326 ORDER BY area DESC LIMIT 1\u001b[0m\n",
      "Thought:\u001b[32;1m\u001b[1;3mNow the query_checker has returned the same query. I can modify it to include the ST_AsGeoJSON function and run it to get the desired result.\n",
      "Action: query_sql_db\n",
      "Action Input: SELECT id, ST_AsGeoJSON(geometry) as geojson FROM stand_4326 ORDER BY area DESC LIMIT 1\u001b[0m\n",
      "Observation: \u001b[36;1m\u001b[1;3m[(357424, '{\"type\":\"MultiPolygon\",\"coordinates\":[[[[23.269915592,60.639333217],[23.268083013,60.639452568],[23.268085115,60.639392395],[23.268122166,60.63933026 ... (31171 characters truncated) ... 5759],[23.263801546,60.636306311],[23.263913367,60.636327409],[23.263964315,60.636381328],[23.264034663,60.636412002],[23.264135767,60.636431456]]]]}')]\u001b[0m\n",
      "Thought:\u001b[32;1m\u001b[1;3mI now know the final answer.\n",
      "Final Answer: {\"type\":\"MultiPolygon\",\"coordinates\":[[[[23.269915592,60.639333217],[23.268083013,60.639452568],[23.268085115,60.639392395],[23.268122166,60.63933026 ... (31171 characters truncated) ... 5759],[23.263801546,60.636306311],[23.263913367,60.636327409],[23.263964315,60.636381328],[23.264034663,60.636412002],[23.264135767,60.636431456]]]]}\u001b[0m\n",
      "\n",
      "\u001b[1m> Finished chain.\u001b[0m\n"
     ]
    },
    {
     "data": {
      "text/plain": [
       "'{\"type\":\"MultiPolygon\",\"coordinates\":[[[[23.269915592,60.639333217],[23.268083013,60.639452568],[23.268085115,60.639392395],[23.268122166,60.63933026 ... (31171 characters truncated) ... 5759],[23.263801546,60.636306311],[23.263913367,60.636327409],[23.263964315,60.636381328],[23.264034663,60.636412002],[23.264135767,60.636431456]]]]}'"
      ]
     },
     "execution_count": 19,
     "metadata": {},
     "output_type": "execute_result"
    }
   ],
   "source": [
    "res = agent_executor.run(\"Get the forest polygon with largest area as geojson from table stand_4326?\")\n",
    "res"
   ]
  }
 ],
 "metadata": {
  "kernelspec": {
   "display_name": ".venv",
   "language": "python",
   "name": "python3"
  },
  "language_info": {
   "codemirror_mode": {
    "name": "ipython",
    "version": 3
   },
   "file_extension": ".py",
   "mimetype": "text/x-python",
   "name": "python",
   "nbconvert_exporter": "python",
   "pygments_lexer": "ipython3",
   "version": "3.10.10"
  },
  "orig_nbformat": 4
 },
 "nbformat": 4,
 "nbformat_minor": 2
}
