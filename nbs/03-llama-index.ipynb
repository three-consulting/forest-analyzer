{
 "cells": [
  {
   "cell_type": "code",
   "execution_count": null,
   "metadata": {},
   "outputs": [],
   "source": [
    "import os\n",
    "import json\n",
    "import folium\n",
    "from sqlalchemy import create_engine\n",
    "from geoalchemy2 import Geometry\n",
    "from geoalchemy2.functions import ST_BdMPolyFromText, ST_PolygonFromText\n",
    "from geoalchemy2.elements import WKTElement\n",
    "from llama_index import GPTSQLStructStoreIndex, SQLDatabase\n",
    "from llama_index.indices.struct_store import SQLContextContainerBuilder\n",
    "from langchain import OpenAI"
   ]
  },
  {
   "cell_type": "code",
   "execution_count": null,
   "metadata": {},
   "outputs": [],
   "source": [
    "OPENAI_API_KEY = os.getenv(\"OPENAI_API_KEY\")\n",
    "DATABASE_NAME = os.getenv(\"DATABASE_NAME\")\n",
    "DATABASE_USER = os.getenv(\"DATABASE_USER\")\n",
    "DATABASE_PASSWORD = os.getenv(\"DATABASE_PASSWORD\")\n",
    "DATABASE_PORT = os.getenv(\"DATABASE_PORT\")\n",
    "DATABASE_HOST = os.getenv(\"DATABASE_HOST\")"
   ]
  },
  {
   "cell_type": "code",
   "execution_count": null,
   "metadata": {},
   "outputs": [],
   "source": [
    "llm_predictor = OpenAI(model_name=\"gpt-4\")"
   ]
  },
  {
   "cell_type": "code",
   "execution_count": null,
   "metadata": {},
   "outputs": [],
   "source": [
    "connection_string = f\"postgresql://{DATABASE_USER}:{DATABASE_PASSWORD}@{DATABASE_HOST}:{DATABASE_PORT}/{DATABASE_NAME}\"\n",
    "engine = create_engine(connection_string)\n"
   ]
  },
  {
   "cell_type": "code",
   "execution_count": null,
   "metadata": {},
   "outputs": [],
   "source": [
    "\n",
    "db = SQLDatabase(engine, include_tables=[\"stand_4326\"])"
   ]
  },
  {
   "attachments": {},
   "cell_type": "markdown",
   "metadata": {},
   "source": [
    "## Exercise 1"
   ]
  },
  {
   "cell_type": "code",
   "execution_count": null,
   "metadata": {},
   "outputs": [],
   "source": [
    "stand_4326_text = (\n",
    "    \"The PostGis plugin is available in the database.\\n\"\n",
    "    \"The forest polygons can be found from the geometry column.\\n\"\n",
    "    \"Get the polygons as geojson.\"\n",
    ")\n",
    "\n",
    "table_context_dict = {\n",
    "    \"stand_4326\": stand_4326_text,\n",
    "}\n",
    "context_builder = SQLContextContainerBuilder(db, context_dict=table_context_dict)\n",
    "context_container = context_builder.build_context_container()"
   ]
  },
  {
   "cell_type": "code",
   "execution_count": null,
   "metadata": {},
   "outputs": [],
   "source": [
    "index = GPTSQLStructStoreIndex.from_documents(\n",
    "    [],\n",
    "    sql_database=db,\n",
    "    table_name=\"stand_4326\",\n",
    "    sql_context_container=context_container,\n",
    ")"
   ]
  },
  {
   "cell_type": "code",
   "execution_count": null,
   "metadata": {},
   "outputs": [],
   "source": [
    "res = index.query(\"Get the forest polygon with largest area?\")"
   ]
  },
  {
   "cell_type": "code",
   "execution_count": null,
   "metadata": {},
   "outputs": [],
   "source": [
    "geojson = json.loads(res.extra_info[\"result\"][0][0])"
   ]
  },
  {
   "cell_type": "code",
   "execution_count": null,
   "metadata": {},
   "outputs": [],
   "source": [
    "type(geojson)"
   ]
  },
  {
   "cell_type": "code",
   "execution_count": null,
   "metadata": {},
   "outputs": [],
   "source": [
    "print(res.extra_info['sql_query'])"
   ]
  },
  {
   "cell_type": "code",
   "execution_count": null,
   "metadata": {},
   "outputs": [],
   "source": [
    "g = geojson[\"coordinates\"][0][0][0]\n",
    "loc = [round(g[1],2), round(g[0],2)]\n",
    "m = folium.Map(location=loc,zoom_start=12)\n",
    "loc"
   ]
  },
  {
   "cell_type": "code",
   "execution_count": null,
   "metadata": {},
   "outputs": [],
   "source": [
    "folium.GeoJson(geojson).add_to(m)"
   ]
  },
  {
   "cell_type": "code",
   "execution_count": null,
   "metadata": {},
   "outputs": [],
   "source": [
    "m"
   ]
  },
  {
   "attachments": {},
   "cell_type": "markdown",
   "metadata": {},
   "source": [
    "## Exercise 2"
   ]
  },
  {
   "cell_type": "code",
   "execution_count": null,
   "metadata": {},
   "outputs": [],
   "source": [
    "stand_4326_text = (\n",
    "    \"I have postgreSQL database with PostGis geospatial forest data.\\n\"\n",
    "    \"The PostGis plugin is available in the database.\\n\"\n",
    "    \"The forest polygons can be found from the geometry column.\\n\"\n",
    "    \"Use ST_DistanceSphere function and divide with 1000 when calculating the distance.\\n\"\n",
    ")\n",
    "\n",
    "table_context_dict = {\n",
    "    \"stand_4326\": stand_4326_text,\n",
    "}\n",
    "context_builder = SQLContextContainerBuilder(db, context_dict=table_context_dict)\n",
    "context_container = context_builder.build_context_container()\n",
    "\n",
    "index = GPTSQLStructStoreIndex.from_documents(\n",
    "    [],\n",
    "    sql_database=db,\n",
    "    table_name=\"stand_4326\",\n",
    "    sql_context_container=context_container,\n",
    ")"
   ]
  },
  {
   "cell_type": "code",
   "execution_count": null,
   "metadata": {},
   "outputs": [],
   "source": [
    "res = index.query(\"\"\"Query the distance between two forests in km by giving the ids 228942 and 69028 of forests?\"\"\")"
   ]
  },
  {
   "cell_type": "code",
   "execution_count": null,
   "metadata": {},
   "outputs": [],
   "source": [
    "print(res.extra_info[\"sql_query\"])"
   ]
  },
  {
   "cell_type": "code",
   "execution_count": null,
   "metadata": {},
   "outputs": [],
   "source": [
    "print(res)"
   ]
  },
  {
   "cell_type": "code",
   "execution_count": null,
   "metadata": {},
   "outputs": [],
   "source": [
    "r = db.run_sql(\"\"\"SELECT ST_AsGeoJSON(s1.geometry) AS g1, ST_AsGeoJSON(s2.geometry) AS g2\n",
    "FROM stand_4326 s1, stand_4326 s2\n",
    "WHERE s1.id = 228942 AND s2.id = 69028  \n",
    "LIMIT 1;\"\"\")"
   ]
  },
  {
   "cell_type": "code",
   "execution_count": null,
   "metadata": {},
   "outputs": [],
   "source": [
    "l = [json.loads(rr) for rr in r[1][\"result\"][0]]\n",
    "\n",
    "m = folium.Map()\n",
    "for g in l:\n",
    "    folium.GeoJson(g).add_to(m)\n",
    "\n",
    "m"
   ]
  }
 ],
 "metadata": {
  "kernelspec": {
   "display_name": ".venv",
   "language": "python",
   "name": "python3"
  },
  "language_info": {
   "codemirror_mode": {
    "name": "ipython",
    "version": 3
   },
   "file_extension": ".py",
   "mimetype": "text/x-python",
   "name": "python",
   "nbconvert_exporter": "python",
   "pygments_lexer": "ipython3",
   "version": "3.10.11"
  },
  "orig_nbformat": 4
 },
 "nbformat": 4,
 "nbformat_minor": 2
}
